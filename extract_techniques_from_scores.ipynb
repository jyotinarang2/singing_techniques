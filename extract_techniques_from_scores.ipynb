{
 "cells": [
  {
   "cell_type": "code",
   "execution_count": 19,
   "id": "initial_id",
   "metadata": {
    "collapsed": true,
    "ExecuteTime": {
     "end_time": "2025-06-11T12:28:47.078761100Z",
     "start_time": "2025-06-11T12:28:46.081425600Z"
    }
   },
   "outputs": [],
   "source": [
    "import os\n",
    "\n",
    "import music21\n",
    "import pandas as pd\n",
    "import os"
   ]
  },
  {
   "cell_type": "code",
   "outputs": [],
   "source": [
    "root_path = './Annotations'"
   ],
   "metadata": {
    "collapsed": false,
    "ExecuteTime": {
     "end_time": "2025-06-11T12:28:49.505990100Z",
     "start_time": "2025-06-11T12:28:49.501919100Z"
    }
   },
   "id": "94343d3a6e0dc5d9",
   "execution_count": 20
  },
  {
   "cell_type": "code",
   "outputs": [],
   "source": [
    "all_musicians = os.listdir(root_path)"
   ],
   "metadata": {
    "collapsed": false,
    "ExecuteTime": {
     "end_time": "2025-06-11T10:10:18.140509900Z",
     "start_time": "2025-06-11T10:10:18.136209600Z"
    }
   },
   "id": "f4ce2eb6c757ac82",
   "execution_count": 11
  },
  {
   "cell_type": "code",
   "outputs": [
    {
     "name": "stderr",
     "output_type": "stream",
     "text": [
      "C:\\Python\\Lib\\site-packages\\IPython\\core\\interactiveshell.py:3670: Music21DeprecationWarning: .flat is deprecated.  Call .flatten() instead\n",
      "  exec(code_obj, self.user_global_ns, self.user_ns)\n"
     ]
    }
   ],
   "source": [
    "technique_dicts = []\n",
    "for musician in all_musicians:\n",
    "    xml_files = os.listdir(os.path.join(root_path, musician, 'MusicXML'))\n",
    "    #Get files with extension .xml\n",
    "    xml_files = [f for f in xml_files if f.endswith('.xml')]\n",
    "    for xml_file in xml_files:\n",
    "        xml_path = os.path.join(root_path, musician, 'MusicXML', xml_file)\n",
    "        score = music21.converter.parse(xml_path)\n",
    "        # Extract techniques from the score\n",
    "        techniques = []\n",
    "        for part in score.parts:\n",
    "            for element in part.flat:\n",
    "                if isinstance(element, music21.expressions.TextExpression):\n",
    "                    techniques.append(element.content)\n",
    "        techniques = set(techniques)  # Remove duplicates\n",
    "        # add musicians name, piece name, and techniques to a dictionary, and finally to a csv\n",
    "        musician_name = musician\n",
    "        piece_name = xml_file\n",
    "        # Convert techniques to a string\n",
    "        techniques = ', '.join(techniques)\n",
    "        #Add to dictionary\n",
    "        technique_dict = {'Musician': musician_name, 'Piece': piece_name, 'Techniques': techniques}\n",
    "        technique_dicts.append(technique_dict)\n",
    "# Save to CSV\n",
    "df = pd.DataFrame(technique_dicts)\n",
    "df.to_csv('techniques_extracted.csv', index=False)\n"
   ],
   "metadata": {
    "collapsed": false,
    "ExecuteTime": {
     "end_time": "2025-06-11T12:32:32.108226900Z",
     "start_time": "2025-06-11T12:32:27.911323900Z"
    }
   },
   "id": "344eab11c1256e8f",
   "execution_count": 21
  },
  {
   "cell_type": "code",
   "outputs": [],
   "source": [],
   "metadata": {
    "collapsed": false
   },
   "id": "2366aff2061d8ce9"
  }
 ],
 "metadata": {
  "kernelspec": {
   "display_name": "Python 3",
   "language": "python",
   "name": "python3"
  },
  "language_info": {
   "codemirror_mode": {
    "name": "ipython",
    "version": 2
   },
   "file_extension": ".py",
   "mimetype": "text/x-python",
   "name": "python",
   "nbconvert_exporter": "python",
   "pygments_lexer": "ipython2",
   "version": "2.7.6"
  }
 },
 "nbformat": 4,
 "nbformat_minor": 5
}
